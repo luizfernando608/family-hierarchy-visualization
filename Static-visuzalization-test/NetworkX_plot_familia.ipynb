{
 "cells": [
  {
   "cell_type": "markdown",
   "source": [
    "## Introduction to Databases\n",
    "\n",
    "### Plotting Graphs "
   ],
   "metadata": {}
  },
  {
   "cell_type": "code",
   "execution_count": 1,
   "source": [
    "# !pip install pydotplus\n",
    "# !pip install graphviz"
   ],
   "outputs": [],
   "metadata": {}
  },
  {
   "cell_type": "code",
   "execution_count": 3,
   "source": [
    "import io\n",
    "from itertools import count\n",
    "import pydotplus\n",
    "import pandas as pd\n",
    "\n",
    "import networkx as nx\n",
    "from networkx import Graph as NXGraph\n",
    "from networkx.drawing.nx_agraph import graphviz_layout\n",
    "\n",
    "import matplotlib.pyplot as plt\n",
    "\n",
    "\n",
    "import matplotlib.colors as mcolors\n",
    "import collections\n",
    "\n",
    "from IPython.display import display, Image"
   ],
   "outputs": [],
   "metadata": {}
  },
  {
   "cell_type": "code",
   "execution_count": 6,
   "source": [
    "#Coletando Data Frame do xls\n",
    "df = pd.read_excel('familia.xls')\n",
    "df.head(60)"
   ],
   "outputs": [
    {
     "output_type": "execute_result",
     "data": {
      "text/html": [
       "<div>\n",
       "<style scoped>\n",
       "    .dataframe tbody tr th:only-of-type {\n",
       "        vertical-align: middle;\n",
       "    }\n",
       "\n",
       "    .dataframe tbody tr th {\n",
       "        vertical-align: top;\n",
       "    }\n",
       "\n",
       "    .dataframe thead th {\n",
       "        text-align: right;\n",
       "    }\n",
       "</style>\n",
       "<table border=\"1\" class=\"dataframe\">\n",
       "  <thead>\n",
       "    <tr style=\"text-align: right;\">\n",
       "      <th></th>\n",
       "      <th>filho</th>\n",
       "      <th>pai-mae</th>\n",
       "    </tr>\n",
       "  </thead>\n",
       "  <tbody>\n",
       "    <tr>\n",
       "      <th>0</th>\n",
       "      <td>Nira</td>\n",
       "      <td>Nonato</td>\n",
       "    </tr>\n",
       "    <tr>\n",
       "      <th>1</th>\n",
       "      <td>Jovelina</td>\n",
       "      <td>Nonato</td>\n",
       "    </tr>\n",
       "    <tr>\n",
       "      <th>2</th>\n",
       "      <td>Josias</td>\n",
       "      <td>Nonato</td>\n",
       "    </tr>\n",
       "    <tr>\n",
       "      <th>3</th>\n",
       "      <td>Tiana</td>\n",
       "      <td>Nonato</td>\n",
       "    </tr>\n",
       "    <tr>\n",
       "      <th>4</th>\n",
       "      <td>Nonato</td>\n",
       "      <td>Nonato</td>\n",
       "    </tr>\n",
       "    <tr>\n",
       "      <th>5</th>\n",
       "      <td>Luiz Fernando</td>\n",
       "      <td>Jovelina</td>\n",
       "    </tr>\n",
       "    <tr>\n",
       "      <th>6</th>\n",
       "      <td>Leilane</td>\n",
       "      <td>Jovelina</td>\n",
       "    </tr>\n",
       "    <tr>\n",
       "      <th>7</th>\n",
       "      <td>Luiz Fernando</td>\n",
       "      <td>Fernando</td>\n",
       "    </tr>\n",
       "    <tr>\n",
       "      <th>8</th>\n",
       "      <td>Leilane</td>\n",
       "      <td>Fernando</td>\n",
       "    </tr>\n",
       "    <tr>\n",
       "      <th>9</th>\n",
       "      <td>Patricia</td>\n",
       "      <td>Tiana</td>\n",
       "    </tr>\n",
       "    <tr>\n",
       "      <th>10</th>\n",
       "      <td>Camila</td>\n",
       "      <td>Tiana</td>\n",
       "    </tr>\n",
       "    <tr>\n",
       "      <th>11</th>\n",
       "      <td>Michele</td>\n",
       "      <td>Josias</td>\n",
       "    </tr>\n",
       "    <tr>\n",
       "      <th>12</th>\n",
       "      <td>Maykon</td>\n",
       "      <td>Nira</td>\n",
       "    </tr>\n",
       "    <tr>\n",
       "      <th>13</th>\n",
       "      <td>Neiliene</td>\n",
       "      <td>Nira</td>\n",
       "    </tr>\n",
       "    <tr>\n",
       "      <th>14</th>\n",
       "      <td>Arthur</td>\n",
       "      <td>Michele</td>\n",
       "    </tr>\n",
       "    <tr>\n",
       "      <th>15</th>\n",
       "      <td>Dani</td>\n",
       "      <td>Tiana</td>\n",
       "    </tr>\n",
       "    <tr>\n",
       "      <th>16</th>\n",
       "      <td>Perola</td>\n",
       "      <td>Dani</td>\n",
       "    </tr>\n",
       "    <tr>\n",
       "      <th>17</th>\n",
       "      <td>Fernando</td>\n",
       "      <td>Terri</td>\n",
       "    </tr>\n",
       "    <tr>\n",
       "      <th>18</th>\n",
       "      <td>Terri</td>\n",
       "      <td>Terri</td>\n",
       "    </tr>\n",
       "  </tbody>\n",
       "</table>\n",
       "</div>"
      ],
      "text/plain": [
       "            filho   pai-mae\n",
       "0            Nira    Nonato\n",
       "1        Jovelina    Nonato\n",
       "2          Josias    Nonato\n",
       "3           Tiana    Nonato\n",
       "4          Nonato    Nonato\n",
       "5   Luiz Fernando  Jovelina\n",
       "6         Leilane  Jovelina\n",
       "7   Luiz Fernando  Fernando\n",
       "8         Leilane  Fernando\n",
       "9        Patricia     Tiana\n",
       "10         Camila     Tiana\n",
       "11        Michele    Josias\n",
       "12         Maykon      Nira\n",
       "13       Neiliene      Nira\n",
       "14         Arthur   Michele\n",
       "15           Dani     Tiana\n",
       "16         Perola      Dani\n",
       "17       Fernando     Terri\n",
       "18          Terri     Terri"
      ]
     },
     "metadata": {},
     "execution_count": 6
    }
   ],
   "metadata": {}
  },
  {
   "cell_type": "code",
   "execution_count": 7,
   "source": [
    "## number of classes\n",
    "len(df['pai-mae'].unique())"
   ],
   "outputs": [
    {
     "output_type": "execute_result",
     "data": {
      "text/plain": [
       "9"
      ]
     },
     "metadata": {},
     "execution_count": 7
    }
   ],
   "metadata": {}
  },
  {
   "cell_type": "code",
   "execution_count": 8,
   "source": [
    "#possible colors' names\n",
    "mcolors.cnames.keys()"
   ],
   "outputs": [
    {
     "output_type": "execute_result",
     "data": {
      "text/plain": [
       "dict_keys(['aliceblue', 'antiquewhite', 'aqua', 'aquamarine', 'azure', 'beige', 'bisque', 'black', 'blanchedalmond', 'blue', 'blueviolet', 'brown', 'burlywood', 'cadetblue', 'chartreuse', 'chocolate', 'coral', 'cornflowerblue', 'cornsilk', 'crimson', 'cyan', 'darkblue', 'darkcyan', 'darkgoldenrod', 'darkgray', 'darkgreen', 'darkgrey', 'darkkhaki', 'darkmagenta', 'darkolivegreen', 'darkorange', 'darkorchid', 'darkred', 'darksalmon', 'darkseagreen', 'darkslateblue', 'darkslategray', 'darkslategrey', 'darkturquoise', 'darkviolet', 'deeppink', 'deepskyblue', 'dimgray', 'dimgrey', 'dodgerblue', 'firebrick', 'floralwhite', 'forestgreen', 'fuchsia', 'gainsboro', 'ghostwhite', 'gold', 'goldenrod', 'gray', 'green', 'greenyellow', 'grey', 'honeydew', 'hotpink', 'indianred', 'indigo', 'ivory', 'khaki', 'lavender', 'lavenderblush', 'lawngreen', 'lemonchiffon', 'lightblue', 'lightcoral', 'lightcyan', 'lightgoldenrodyellow', 'lightgray', 'lightgreen', 'lightgrey', 'lightpink', 'lightsalmon', 'lightseagreen', 'lightskyblue', 'lightslategray', 'lightslategrey', 'lightsteelblue', 'lightyellow', 'lime', 'limegreen', 'linen', 'magenta', 'maroon', 'mediumaquamarine', 'mediumblue', 'mediumorchid', 'mediumpurple', 'mediumseagreen', 'mediumslateblue', 'mediumspringgreen', 'mediumturquoise', 'mediumvioletred', 'midnightblue', 'mintcream', 'mistyrose', 'moccasin', 'navajowhite', 'navy', 'oldlace', 'olive', 'olivedrab', 'orange', 'orangered', 'orchid', 'palegoldenrod', 'palegreen', 'paleturquoise', 'palevioletred', 'papayawhip', 'peachpuff', 'peru', 'pink', 'plum', 'powderblue', 'purple', 'rebeccapurple', 'red', 'rosybrown', 'royalblue', 'saddlebrown', 'salmon', 'sandybrown', 'seagreen', 'seashell', 'sienna', 'silver', 'skyblue', 'slateblue', 'slategray', 'slategrey', 'snow', 'springgreen', 'steelblue', 'tan', 'teal', 'thistle', 'tomato', 'turquoise', 'violet', 'wheat', 'white', 'whitesmoke', 'yellow', 'yellowgreen'])"
      ]
     },
     "metadata": {},
     "execution_count": 8
    }
   ],
   "metadata": {}
  },
  {
   "cell_type": "code",
   "execution_count": 9,
   "source": [
    "# Contando o número de pessoas no banco de dados\n",
    "linhas = len(df['pai-mae'].unique())\n",
    "\n",
    "# Criando uma lista de cores disponíveis\n",
    "chosen = list(mcolors.cnames.keys())\n",
    "\n",
    "# Criando uma lista de cores de acordo com o número de pessoas\n",
    "chosen = chosen[1:linhas+1]\n",
    "\n",
    "# Dicionário das pessoas correspondentes a cada cor\n",
    "colors = dict(zip(df['pai-mae'].unique(),chosen))\n",
    "print(colors)\n",
    "\n",
    "# Criando um dataframe com as pessoas e suas cores correspondentes.\n",
    "df_colors = pd.DataFrame({'classes':df['pai-mae'].unique(), 'colors':chosen})\n",
    "\n",
    "df_colors.head(60)"
   ],
   "outputs": [
    {
     "output_type": "stream",
     "name": "stdout",
     "text": [
      "{'Nonato': 'antiquewhite', 'Jovelina': 'aqua', 'Fernando': 'aquamarine', 'Tiana': 'azure', 'Josias': 'beige', 'Nira': 'bisque', 'Michele': 'black', 'Dani': 'blanchedalmond', 'Terri': 'blue'}\n"
     ]
    },
    {
     "output_type": "execute_result",
     "data": {
      "text/html": [
       "<div>\n",
       "<style scoped>\n",
       "    .dataframe tbody tr th:only-of-type {\n",
       "        vertical-align: middle;\n",
       "    }\n",
       "\n",
       "    .dataframe tbody tr th {\n",
       "        vertical-align: top;\n",
       "    }\n",
       "\n",
       "    .dataframe thead th {\n",
       "        text-align: right;\n",
       "    }\n",
       "</style>\n",
       "<table border=\"1\" class=\"dataframe\">\n",
       "  <thead>\n",
       "    <tr style=\"text-align: right;\">\n",
       "      <th></th>\n",
       "      <th>classes</th>\n",
       "      <th>colors</th>\n",
       "    </tr>\n",
       "  </thead>\n",
       "  <tbody>\n",
       "    <tr>\n",
       "      <th>0</th>\n",
       "      <td>Nonato</td>\n",
       "      <td>antiquewhite</td>\n",
       "    </tr>\n",
       "    <tr>\n",
       "      <th>1</th>\n",
       "      <td>Jovelina</td>\n",
       "      <td>aqua</td>\n",
       "    </tr>\n",
       "    <tr>\n",
       "      <th>2</th>\n",
       "      <td>Fernando</td>\n",
       "      <td>aquamarine</td>\n",
       "    </tr>\n",
       "    <tr>\n",
       "      <th>3</th>\n",
       "      <td>Tiana</td>\n",
       "      <td>azure</td>\n",
       "    </tr>\n",
       "    <tr>\n",
       "      <th>4</th>\n",
       "      <td>Josias</td>\n",
       "      <td>beige</td>\n",
       "    </tr>\n",
       "    <tr>\n",
       "      <th>5</th>\n",
       "      <td>Nira</td>\n",
       "      <td>bisque</td>\n",
       "    </tr>\n",
       "    <tr>\n",
       "      <th>6</th>\n",
       "      <td>Michele</td>\n",
       "      <td>black</td>\n",
       "    </tr>\n",
       "    <tr>\n",
       "      <th>7</th>\n",
       "      <td>Dani</td>\n",
       "      <td>blanchedalmond</td>\n",
       "    </tr>\n",
       "    <tr>\n",
       "      <th>8</th>\n",
       "      <td>Terri</td>\n",
       "      <td>blue</td>\n",
       "    </tr>\n",
       "  </tbody>\n",
       "</table>\n",
       "</div>"
      ],
      "text/plain": [
       "    classes          colors\n",
       "0    Nonato    antiquewhite\n",
       "1  Jovelina            aqua\n",
       "2  Fernando      aquamarine\n",
       "3     Tiana           azure\n",
       "4    Josias           beige\n",
       "5      Nira          bisque\n",
       "6   Michele           black\n",
       "7      Dani  blanchedalmond\n",
       "8     Terri            blue"
      ]
     },
     "metadata": {},
     "execution_count": 9
    }
   ],
   "metadata": {}
  },
  {
   "cell_type": "code",
   "execution_count": 10,
   "source": [
    "#Criando entidade do Grafo\n",
    "G = nx.DiGraph()\n",
    "\n",
    "# Adicionando Nós\n",
    "# Nessa etapa são adicionados os nós soltos com valores e cores\n",
    "for idx in df.index:\n",
    "   G.add_node(df.loc[idx, 'filho'], color=colors[df.loc[idx,'pai-mae']])\n",
    "   # print(\"------------------------------------\")\n",
    "\n",
    "# Nessa etapa, são estabelecidas as conexões entre os grafos\n",
    "G.add_edges_from(zip(df['filho'].values, df['pai-mae'].values),\n",
    "                 color='turquoise', \n",
    "                 relation = 'filho de')\n",
    "\n",
    "\n",
    "for g in G.nodes():\n",
    "   G.edges(data=True)"
   ],
   "outputs": [],
   "metadata": {}
  },
  {
   "cell_type": "code",
   "execution_count": 11,
   "source": [
    "for g in G.nodes():\n",
    "    #print(g)\n",
    "    #print(nx.get_node_attributes(G, 'color')[g])\n",
    "    pass\n",
    "\n",
    "print( type(G) )\n"
   ],
   "outputs": [
    {
     "output_type": "stream",
     "name": "stdout",
     "text": [
      "<class 'networkx.classes.digraph.DiGraph'>\n"
     ]
    }
   ],
   "metadata": {}
  },
  {
   "cell_type": "code",
   "execution_count": 17,
   "source": [
    "import dash\n",
    "import dash_html_components as html\n",
    "import dash_cytoscape as cyto"
   ],
   "outputs": [],
   "metadata": {}
  },
  {
   "cell_type": "code",
   "execution_count": 29,
   "source": [
    "cyto_family_nodes = nx.readwrite.json_graph.cytoscape_data(G)['elements']['nodes']\n",
    "cyto_family_edges = nx.readwrite.json_graph.cytoscape_data(G)['elements']['edges']"
   ],
   "outputs": [],
   "metadata": {}
  },
  {
   "cell_type": "code",
   "execution_count": 31,
   "source": [
    "app = dash.Dash(\"Family Network\")\n",
    "app.layout = html.Div([ \n",
    "    html.P('Dash Cytoscape:'),\n",
    "    cyto.Cytoscape(\n",
    "        id ='cytoscape',\n",
    "        elements=cyto_family_nodes+cyto_family_edges,\n",
    "        layout={'name':'breadthfirst'},\n",
    "        style={'width':'400px', 'height':'500px'}\n",
    "    )\n",
    "])\n",
    "app.run_server(debug=False)"
   ],
   "outputs": [
    {
     "output_type": "stream",
     "name": "stdout",
     "text": [
      "Dash is running on http://127.0.0.1:8050/\n",
      "\n",
      "Dash is running on http://127.0.0.1:8050/\n",
      "\n",
      "Dash is running on http://127.0.0.1:8050/\n",
      "\n",
      "Dash is running on http://127.0.0.1:8050/\n",
      "\n",
      "Dash is running on http://127.0.0.1:8050/\n",
      "\n",
      "Dash is running on http://127.0.0.1:8050/\n",
      "\n",
      " * Serving Flask app 'Family Network' (lazy loading)\n",
      " * Environment: production\n",
      "\u001b[31m   WARNING: This is a development server. Do not use it in a production deployment.\u001b[0m\n",
      "\u001b[2m   Use a production WSGI server instead.\u001b[0m\n",
      " * Debug mode: off\n"
     ]
    },
    {
     "output_type": "stream",
     "name": "stderr",
     "text": [
      " * Running on http://127.0.0.1:8050/ (Press CTRL+C to quit)\n",
      "127.0.0.1 - - [26/Sep/2021 16:08:07] \"GET / HTTP/1.1\" 200 -\n",
      "127.0.0.1 - - [26/Sep/2021 16:08:07] \"GET /_dash-layout HTTP/1.1\" 200 -\n",
      "127.0.0.1 - - [26/Sep/2021 16:08:07] \"GET /_dash-dependencies HTTP/1.1\" 200 -\n"
     ]
    }
   ],
   "metadata": {}
  },
  {
   "cell_type": "code",
   "execution_count": 14,
   "source": [
    "# Biblioteca do NetworkX para a criação de grafos\n",
    "from networkx.drawing.nx_agraph import graphviz_layout\n",
    "\n",
    "fig, ax = plt.subplots(figsize=(25,10))\n",
    "\n",
    "# pos = nx.spring_layout(G)\n",
    "pos = nx.drawing.nx_agraph.graphviz_layout(G, prog=\"dot\")\n",
    "# pos = nx.drawing.nx_agraph.pygraphviz_layout(G,prog='fdp')\n",
    "nx.draw_networkx_edge_labels(G,\n",
    "                             pos,\n",
    "                             edge_labels=nx.get_edge_attributes(G,'relation'),\n",
    "                             label_pos=0.5,\n",
    "                             font_size=9,\n",
    "                             font_color='red',\n",
    "                             font_family='sans-serif',\n",
    "                             font_weight='normal',\n",
    "                             alpha=1.0,\n",
    "                             bbox=None,\n",
    "                             ax=ax,\n",
    "                             rotate=True,)\n",
    "\n",
    "print(G.nodes())\n",
    "nx.draw_networkx(G,\n",
    "                pos=pos,\n",
    "                #font_color=\"green\",\n",
    "                arrows=True,\n",
    "                with_labels=True,\n",
    "                ax=ax,\n",
    "                nodelist=G.nodes(),\n",
    "                edgelist=G.edges(),\n",
    "                node_size=700,\n",
    "                node_color=[nx.get_node_attributes(G,'color')[g] for g in G.nodes()])\n",
    "\n",
    "\n",
    "\n",
    "#nx.node_color=[nx.get_node_attributes(G,'color')[g] for g in G.nodes()]\n",
    "plt.savefig(\"familia_Graph.jpg\", format=\"jpg\", dpi=100)\n",
    "plt.show()"
   ],
   "outputs": [
    {
     "output_type": "stream",
     "name": "stdout",
     "text": [
      "['Nira', 'Jovelina', 'Josias', 'Tiana', 'Nonato', 'Luiz Fernando', 'Leilane', 'Patricia', 'Camila', 'Michele', 'Maykon', 'Neiliene', 'Arthur', 'Dani', 'Perola', 'Fernando', 'Terri']\n"
     ]
    },
    {
     "output_type": "display_data",
     "data": {
      "image/png": "[encoded data removed]",
      "text/plain": [
       "<Figure size 1800x720 with 1 Axes>"
      ]
     },
     "metadata": {}
    }
   ],
   "metadata": {}
  },
  {
   "cell_type": "code",
   "execution_count": 10,
   "source": [
    "import json\n",
    "with open('family.json', 'w') as f:\n",
    "    f.write(json.dumps(nx.cytoscape_data(G)))"
   ],
   "outputs": [],
   "metadata": {}
  },
  {
   "cell_type": "code",
   "execution_count": 11,
   "source": [
    "with open('family.json', 'w') as f:\n",
    "    data = nx.readwrite.json_graph.cytoscape_data(G)"
   ],
   "outputs": [],
   "metadata": {}
  },
  {
   "cell_type": "code",
   "execution_count": 12,
   "source": [
    "# !pip install pygraphviz"
   ],
   "outputs": [],
   "metadata": {}
  }
 ],
 "metadata": {
  "kernelspec": {
   "name": "python3",
   "display_name": "Python 3.8.10 64-bit"
  },
  "language_info": {
   "codemirror_mode": {
    "name": "ipython",
    "version": 3
   },
   "file_extension": ".py",
   "mimetype": "text/x-python",
   "name": "python",
   "nbconvert_exporter": "python",
   "pygments_lexer": "ipython3",
   "version": "3.8.10"
  },
  "interpreter": {
   "hash": "31f2aee4e71d21fbe5cf8b01ff0e069b9275f58929596ceb00d14d90e3e16cd6"
  }
 },
 "nbformat": 4,
 "nbformat_minor": 4
}