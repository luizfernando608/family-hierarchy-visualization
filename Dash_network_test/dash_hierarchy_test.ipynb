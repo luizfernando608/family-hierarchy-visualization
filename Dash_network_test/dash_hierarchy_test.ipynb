{
 "cells": [
  {
   "cell_type": "code",
   "execution_count": 1,
   "metadata": {},
   "outputs": [
    {
     "name": "stderr",
     "output_type": "stream",
     "text": [
      "C:\\Users\\LUIZLU~1\\AppData\\Local\\Temp/ipykernel_13920/3212093076.py:2: UserWarning: \n",
      "The dash_core_components package is deprecated. Please replace\n",
      "`import dash_core_components as dcc` with `from dash import dcc`\n",
      "  import dash_core_components as dcc\n",
      "C:\\Users\\LUIZLU~1\\AppData\\Local\\Temp/ipykernel_13920/3212093076.py:3: UserWarning: \n",
      "The dash_html_components package is deprecated. Please replace\n",
      "`import dash_html_components as html` with `from dash import html`\n",
      "  import dash_html_components as html\n"
     ]
    }
   ],
   "source": [
    "import dash\n",
    "import dash_core_components as dcc\n",
    "import dash_html_components as html\n",
    "import dash_cytoscape as cyto\n",
    "from dash.dependencies import Input, Output\n",
    "import plotly.express as px\n",
    "\n",
    "import pandas as pd\n",
    "\n",
    "import networkx as nx\n",
    "from networkx import Graph as NXGraph  "
   ]
  },
  {
   "cell_type": "code",
   "execution_count": 2,
   "metadata": {},
   "outputs": [
    {
     "name": "stdout",
     "output_type": "stream",
     "text": [
      "Dash is running on http://127.0.0.1:8050/\n",
      "\n",
      " * Serving Flask app '__main__' (lazy loading)\n",
      " * Environment: production\n",
      "   WARNING: This is a development server. Do not use it in a production deployment.\n",
      "   Use a production WSGI server instead.\n",
      " * Debug mode: off\n"
     ]
    },
    {
     "name": "stderr",
     "output_type": "stream",
     "text": [
      " * Running on http://127.0.0.1:8050/ (Press CTRL+C to quit)\n",
      "127.0.0.1 - - [09/Nov/2021 17:01:43] \"GET / HTTP/1.1\" 200 -\n",
      "127.0.0.1 - - [09/Nov/2021 17:01:43] \"GET /_dash-component-suites/dash/deps/polyfill@7.v2_0_0m1632656047.12.1.min.js HTTP/1.1\" 200 -\n",
      "127.0.0.1 - - [09/Nov/2021 17:01:43] \"GET /_dash-component-suites/dash/deps/react@16.v2_0_0m1632656047.14.0.min.js HTTP/1.1\" 200 -\n",
      "127.0.0.1 - - [09/Nov/2021 17:01:43] \"GET /_dash-component-suites/dash/deps/react-dom@16.v2_0_0m1632656047.14.0.min.js HTTP/1.1\" 200 -\n",
      "127.0.0.1 - - [09/Nov/2021 17:01:43] \"GET /_dash-component-suites/dash/deps/prop-types@15.v2_0_0m1632656047.7.2.min.js HTTP/1.1\" 200 -\n",
      "127.0.0.1 - - [09/Nov/2021 17:01:43] \"GET /_dash-component-suites/dash_cytoscape/dash_cytoscape.v0_2_0m1632656048.min.js HTTP/1.1\" 200 -\n",
      "127.0.0.1 - - [09/Nov/2021 17:01:43] \"GET /_dash-component-suites/dash/dash-renderer/build/dash_renderer.v2_0_0m1632656047.min.js HTTP/1.1\" 200 -\n",
      "127.0.0.1 - - [09/Nov/2021 17:01:43] \"GET /_dash-component-suites/dash/dcc/dash_core_components-shared.v2_0_0m1632656047.js HTTP/1.1\" 200 -\n",
      "127.0.0.1 - - [09/Nov/2021 17:01:43] \"GET /_dash-component-suites/dash/dcc/dash_core_components.v2_0_0m1632656047.js HTTP/1.1\" 200 -\n",
      "127.0.0.1 - - [09/Nov/2021 17:01:43] \"GET /_dash-component-suites/dash/html/dash_html_components.v2_0_0m1632656047.min.js HTTP/1.1\" 200 -\n",
      "127.0.0.1 - - [09/Nov/2021 17:01:43] \"GET /_dash-component-suites/dash/dash_table/bundle.v5_0_0m1632656047.js HTTP/1.1\" 200 -\n",
      "127.0.0.1 - - [09/Nov/2021 17:01:43] \"GET /_dash-layout HTTP/1.1\" 200 -\n",
      "127.0.0.1 - - [09/Nov/2021 17:01:43] \"GET /_dash-dependencies HTTP/1.1\" 200 -\n",
      "127.0.0.1 - - [09/Nov/2021 17:01:43] \"GET /_favicon.ico?v=2.0.0 HTTP/1.1\" 200 -\n"
     ]
    }
   ],
   "source": [
    "app = dash.Dash(__name__)\n",
    "app.layout = html.Div([\n",
    "    html.P(\"Dash Cytoscape:\"),\n",
    "    cyto.Cytoscape(\n",
    "        id='cytoscape',\n",
    "        elements=[\n",
    "            {'data': {'id': 'ca', 'label': 'Canada'}}, \n",
    "            {'data': {'id': 'on', 'label': 'Ontario'}}, \n",
    "            {'data': {'id': 'qc', 'label': 'Quebec'}},\n",
    "            {'data': {'source': 'ca', 'target': 'on'}}, \n",
    "            {'data': {'source': 'ca', 'target': 'qc'}}\n",
    "        ],\n",
    "        layout={'name': 'breadthfirst'},\n",
    "        style={'width': '400px', 'height': '500px'}\n",
    "    )\n",
    "])\n",
    "\n",
    "app.run_server(debug=False)#"
   ]
  },
  {
   "cell_type": "code",
   "execution_count": null,
   "metadata": {},
   "outputs": [],
   "source": []
  }
 ],
 "metadata": {
  "interpreter": {
   "hash": "9d22e210787f932f44a26469d735647043a268fad5da08dd695a23660e1e54d0"
  },
  "kernelspec": {
   "display_name": "Python 3.9.7 64-bit",
   "name": "python3"
  },
  "language_info": {
   "codemirror_mode": {
    "name": "ipython",
    "version": 3
   },
   "file_extension": ".py",
   "mimetype": "text/x-python",
   "name": "python",
   "nbconvert_exporter": "python",
   "pygments_lexer": "ipython3",
   "version": "3.9.7"
  },
  "orig_nbformat": 4
 },
 "nbformat": 4,
 "nbformat_minor": 2
}
