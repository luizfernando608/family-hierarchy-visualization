{
 "cells": [
  {
   "cell_type": "markdown",
   "metadata": {},
   "source": [
    "## Base de Dados\n",
    "O objetivo final do projeto é usar uma base de dados com as relações de parentesco dentro do bairro de Surubeju do município de Monte Alegre - PA. No entanto, devido ao tempo de coleta desses dados, usarei um apenas uma amostra ou um conjunto de dados fake para a criação da visualização.\n",
    "\n",
    "## Motivação\n",
    "No referido bairro, no qual eu resido, existe uma peculiaridade de que os habitantes deste local tendem a constituir famílias com moradores do próprio bairro. Diante disso, criaram-se relações de parentesco peculiares, complexas e até mesmo desconhecidas pelos residentes. Com isso, decidi criar uma visualização dinâmica que demonstrasse todas as relações de parentesco presentes no bairro.\n",
    "\n",
    "## Expectativa\n",
    "O objetivo é conseguir plotar um gráfico de redes interativo, em que o usuário possa inserir o nome de duas pessoas e verificar a rede de parentesco entre elas.\n",
    "\n",
    "\n",
    "## Esboços\n",
    "Estão algumas amostras de dados com relações de parentesco e esboços de como será a visualização final."
   ]
  },
  {
   "cell_type": "code",
   "execution_count": 1,
   "metadata": {},
   "outputs": [
    {
     "name": "stderr",
     "output_type": "stream",
     "text": [
      "C:\\Users\\LUIZLU~1\\AppData\\Local\\Temp/ipykernel_20580/2034162194.py:5: UserWarning: \n",
      "The dash_html_components package is deprecated. Please replace\n",
      "`import dash_html_components as html` with `from dash import html`\n",
      "  import dash_html_components as html\n",
      "C:\\Users\\LUIZLU~1\\AppData\\Local\\Temp/ipykernel_20580/2034162194.py:7: UserWarning: \n",
      "The dash_core_components package is deprecated. Please replace\n",
      "`import dash_core_components as dcc` with `from dash import dcc`\n",
      "  import dash_core_components as dcc\n"
     ]
    }
   ],
   "source": [
    "import pandas as pd\n",
    "import networkx as nx\n",
    "import matplotlib.colors as mcolors\n",
    "import dash\n",
    "import dash_html_components as html\n",
    "import dash_cytoscape as cyto\n",
    "import dash_core_components as dcc\n",
    "from dash.dependencies import Input, Output\n",
    "from networkx.algorithms.traversal.depth_first_search import dfs_tree\n",
    "import numpy as np"
   ]
  },
  {
   "cell_type": "code",
   "execution_count": 2,
   "metadata": {},
   "outputs": [],
   "source": [
    "# Coletando Data Frame do xls\n",
    "full_data = pd.read_excel('familia.xlsx', index_col=0)\n",
    "name_by_id = full_data[[\"nome\"]].to_dict()[\"nome\"]"
   ]
  },
  {
   "cell_type": "code",
   "execution_count": 4,
   "metadata": {},
   "outputs": [],
   "source": [
    "# Criando o Grafo\n",
    "family_tree = nx.DiGraph()\n",
    "# Adicionando os nodes\n",
    "for idx in full_data.index:\n",
    "    short_name = name_by_id[idx].split(\" \")[0]+\" \"+name_by_id[idx].split(\" \")[-1]\n",
    "    family_tree.add_node(str(idx),\n",
    "                         id=str(idx),\n",
    "                         short_name=short_name,\n",
    "                         full_name=name_by_id[idx],\n",
    "                        #  color=colors_by_id[idx]\n",
    "                         )\n"
   ]
  },
  {
   "cell_type": "code",
   "execution_count": 5,
   "metadata": {},
   "outputs": [],
   "source": [
    "# Adicionando Edges\n",
    "father_ids = full_data[\"pai_id\"].values\n",
    "mother_ids = full_data[\"mae_id\"].values\n",
    "name_ids = full_data[\"nome\"].index.values\n",
    "edges_list = []\n",
    "\n",
    "for name_id, father_id, mother_id in zip(name_ids, father_ids, mother_ids):\n",
    "    if pd.notna(father_id):\n",
    "        edges_list.append((str(name_id), str(int(father_id))))\n",
    "    if pd.notna(mother_id):\n",
    "        edges_list.append((str(name_id), str(int(mother_id))))\n",
    "\n",
    "\n",
    "family_tree.add_edges_from(edges_list)\n"
   ]
  },
  {
   "cell_type": "code",
   "execution_count": 6,
   "metadata": {},
   "outputs": [
    {
     "data": {
      "text/plain": [
       "{'data': {'id': '1',\n",
       "  'short_name': 'Waldomiro Vasconcelos',\n",
       "  'full_name': 'Waldomiro Vasconcelos',\n",
       "  'value': '1',\n",
       "  'name': '1'}}"
      ]
     },
     "execution_count": 6,
     "metadata": {},
     "output_type": "execute_result"
    }
   ],
   "source": [
    "cyto_family_nodes = nx.readwrite.json_graph.cytoscape_data(family_tree)[\n",
    "    'elements']['nodes']\n",
    "cyto_family_edges = nx.readwrite.json_graph.cytoscape_data(family_tree)[\n",
    "    'elements']['edges']\n",
    "cyto_family_nodes[0]\n"
   ]
  },
  {
   "cell_type": "code",
   "execution_count": 7,
   "metadata": {},
   "outputs": [],
   "source": [
    "family_degrees = family_tree.in_degree\n",
    "max_degre = max([degree for id, degree in family_degrees])\n",
    "green = np.array((57, 173, 51))\n",
    "brown = np.array((51, 31, 15))\n",
    "step = (brown-green)/max_degre\n",
    "\n",
    "for node in cyto_family_nodes:\n",
    "    degree = family_degrees[node[\"data\"][\"id\"]]\n",
    "    node[\"data\"][\"size\"] = degree**2\n",
    "    node[\"data\"][\"color\"] =f\"rgb{str(tuple(green+step*degree))}\"\n"
   ]
  },
  {
   "cell_type": "code",
   "execution_count": 8,
   "metadata": {},
   "outputs": [
    {
     "data": {
      "text/plain": [
       "[['70', '67', '2', '3', '7', '8', '9'], ['70', '67', '1', '3', '7', '8', '9']]"
      ]
     },
     "execution_count": 8,
     "metadata": {},
     "output_type": "execute_result"
    }
   ],
   "source": [
    "def get_path(family_tree:nx.classes.digraph.DiGraph, source_id:str, target_id:str):\n",
    "    source = nx.descendants(family_tree,source_id)\n",
    "    source.add(source_id)\n",
    "    target = nx.descendants(family_tree,target_id)    \n",
    "    target.add(target_id)\n",
    "    intersec_parent_nodes = target.intersection(source)\n",
    "    shortest_path_length = float(\"inf\")\n",
    "    all_shortest_paths = []\n",
    "    for parent in intersec_parent_nodes:\n",
    "        path_length =nx.shortest_path_length(family_tree,source_id,parent)+nx.shortest_path_length(family_tree,target_id,parent)\n",
    "        if path_length < shortest_path_length:\n",
    "           all_shortest_paths.clear()\n",
    "\n",
    "        if path_length <= shortest_path_length:\n",
    "           source_to_parent = [path for paths in nx.all_shortest_paths(family_tree,source_id,parent) for path in paths]\n",
    "           target_to_parent = [path for paths in nx.all_shortest_paths(family_tree,target_id,parent) for path in reversed(paths[:-1])]\n",
    "           all_shortest_paths.append(source_to_parent+target_to_parent)\n",
    "           shortest_path_length = path_length\n",
    "\n",
    "    return all_shortest_paths"
   ]
  },
  {
   "cell_type": "code",
   "execution_count": 9,
   "metadata": {},
   "outputs": [],
   "source": [
    "def dict_to_highlight_path(paths:list):\n",
    "    edge_style = []\n",
    "    node_style = []\n",
    "    for node_path in paths:\n",
    "            for idx in node_path[1:-1]:\n",
    "                node_style +=[{\"selector\": f\"#{idx}\",\n",
    "                            \"style\": {\"background-color\": \"blue\"}}]\n",
    "            \n",
    "            node_style +=[{\"selector\": f\"#{node_path[0]}\",\n",
    "                            \"style\": {\"background-color\": \"red\"}}]\n",
    "            node_style +=[{\"selector\": f\"#{node_path[-1]}\",\n",
    "                            \"style\": {\"background-color\": \"red\"}}]\n",
    "\n",
    "            for num, idx in enumerate(node_path[:-1]):\n",
    "                edge_style += [\n",
    "                    {'selector': f\"[target = '{node_path[num]}' ][source = '{node_path[num+1]}']\",\n",
    "                    'style': {\n",
    "                        'line-color': \"blue\",\n",
    "                        'z-index':\"10\", \n",
    "                        \"width\":\"10px\", \n",
    "                        \"opacity\":\"0.7\"\n",
    "                    }},\n",
    "                    {'selector': f\"[source = '{node_path[num]}' ][target = '{node_path[num+1]}']\",\n",
    "                    'style': {\n",
    "                        'line-color': \"blue\",\n",
    "                        'z-index':\"10\", \n",
    "                        \"width\":\"10px\", \n",
    "                        \"opacity\":\"0.7\"\n",
    "                    }},\n",
    "                ]\n",
    "\n",
    "    return node_style + edge_style"
   ]
  },
  {
   "cell_type": "code",
   "execution_count": 10,
   "metadata": {},
   "outputs": [],
   "source": [
    "cyto.load_extra_layouts()"
   ]
  },
  {
   "cell_type": "code",
   "execution_count": 11,
   "metadata": {},
   "outputs": [
    {
     "name": "stdout",
     "output_type": "stream",
     "text": [
      "Dash is running on http://127.0.0.1:8050/\n",
      "\n",
      " * Serving Flask app 'Family Network' (lazy loading)\n",
      " * Environment: production\n",
      "   WARNING: This is a development server. Do not use it in a production deployment.\n",
      "   Use a production WSGI server instead.\n",
      " * Debug mode: off\n"
     ]
    },
    {
     "name": "stderr",
     "output_type": "stream",
     "text": [
      " * Running on http://127.0.0.1:8050/ (Press CTRL+C to quit)\n",
      "127.0.0.1 - - [11/Nov/2021 15:27:59] \"GET / HTTP/1.1\" 200 -\n",
      "127.0.0.1 - - [11/Nov/2021 15:27:59] \"GET /_dash-layout HTTP/1.1\" 200 -\n",
      "127.0.0.1 - - [11/Nov/2021 15:27:59] \"GET /_dash-dependencies HTTP/1.1\" 200 -\n",
      "127.0.0.1 - - [11/Nov/2021 15:27:59] \"GET /_favicon.ico?v=2.0.0 HTTP/1.1\" 200 -\n",
      "127.0.0.1 - - [11/Nov/2021 15:27:59] \"GET /_dash-component-suites/dash/dcc/async-dropdown.js HTTP/1.1\" 200 -\n",
      "127.0.0.1 - - [11/Nov/2021 15:27:59] \"POST /_dash-update-component HTTP/1.1\" 200 -\n",
      "127.0.0.1 - - [11/Nov/2021 15:27:59] \"POST /_dash-update-component HTTP/1.1\" 200 -\n"
     ]
    }
   ],
   "source": [
    "cytoscape_stylesheet = [\n",
    "    {'selector': 'node',\n",
    "     'style': {'label': 'data(short_name)',\n",
    "               'padding': 'data(size)',\n",
    "               'border-width': '1px',\n",
    "               'border-style': 'solid',\n",
    "               'border-color': \"black\",\n",
    "               \"background-color\":\"data(color)\",\n",
    "               \"display\":\"block\",\n",
    "               \"word-wrap\":\"break-word\"\n",
    "               },\n",
    "    },\n",
    "    {'selector': 'edge',\n",
    "     'style': {\n",
    "         'line-color': \"rgb(51, 31, 15)\",\n",
    "         'opacity': '0.5',\n",
    "         \"width\":\"5px\"\n",
    "     }},\n",
    "]\n",
    "\n",
    "app = dash.Dash(\"Family Network\")\n",
    "app.layout = html.Div([\n",
    "    html.P('Dash Cytoscape:'),\n",
    "    html.H2(\"Conheça a conexão entre duas pessoas do bairro\"),\n",
    "    html.Div([\n",
    "        dcc.Dropdown(\n",
    "            id='input-father-id',\n",
    "            options=[{'label': name, 'value': idx}\n",
    "                     for (idx, name) in name_by_id.items()],\n",
    "            searchable=True,\n",
    "            style={\"margin\": \"5px\", \"width\":\"40vw\"}\n",
    "        ),\n",
    "        dcc.Dropdown(\n",
    "            id='input-mother-id',\n",
    "            options=[{'label': name, 'value': idx}\n",
    "                     for (idx, name) in name_by_id.items()],\n",
    "            searchable=True,\n",
    "            style={\"margin\": \"5px\", \"width\":\"40vw\"}\n",
    "        ),\n",
    "        ], style={\"display\":\"flex\",\n",
    "                    \"flex-direction\":\"row\",\n",
    "                    # \"justify-content\": \"space-around\",\n",
    "                    }\n",
    "        ),\n",
    "    html.P( id=\"warning\", style={\"color\":\"red\"}),\n",
    "    html.Div([\n",
    "        dcc.Dropdown(id='input-all-family',\n",
    "            options=[{'label': name, 'value': idx}\n",
    "                     for (idx, name) in name_by_id.items()],\n",
    "            searchable=True,\n",
    "            style={\"margin\": \"5px\", \"width\":\"40vw\"})\n",
    "    ]),\n",
    "    cyto.Cytoscape(\n",
    "        id='cytoscape',\n",
    "        elements=cyto_family_nodes+cyto_family_edges,\n",
    "        layout={'name': 'dagre',\n",
    "                #  'roots':'#1, #2'\n",
    "                },\n",
    "        style={'width': '100vw', 'height': '90vh'},\n",
    "        stylesheet=cytoscape_stylesheet)\n",
    "])\n",
    "\n",
    "\n",
    "@app.callback(Output('cytoscape', 'elements'),\n",
    "              Input('input-all-family', 'value'))\n",
    "def get_all_ancestors(source_id):\n",
    "    if source_id is not None:\n",
    "        sub_tree = dfs_tree(family_tree, str(source_id))\n",
    "        subtree_elements_nodes = nx.readwrite.json_graph.cytoscape_data(sub_tree)['elements']['nodes']\n",
    "        subtree_elements_edges = nx.readwrite.json_graph.cytoscape_data(sub_tree)['elements']['edges']\n",
    "        return subtree_elements_edges + subtree_elements_nodes     \n",
    "   \n",
    "    return cyto_family_edges+cyto_family_nodes\n",
    "\n",
    "\n",
    "@app.callback(Output('cytoscape', 'stylesheet'),\n",
    "              Output(\"warning\", \"children\"),\n",
    "              Input('input-father-id', 'value'),\n",
    "              Input('input-mother-id', 'value'))\n",
    "def highlight_node_path(source_id, target_id):\n",
    "    style = []\n",
    "    if source_id is not None and target_id is not None:\n",
    "        path = get_path(family_tree,str(source_id),str(target_id))\n",
    "        if len(path) == 0:\n",
    "            return cytoscape_stylesheet+style, \"Não há relação entre eles\" \n",
    "        style = dict_to_highlight_path(path)       \n",
    "    return cytoscape_stylesheet + style, \"\"\n",
    "    \n",
    "\n",
    "\n",
    "app.run_server(debug=False)\n"
   ]
  },
  {
   "cell_type": "code",
   "execution_count": null,
   "metadata": {},
   "outputs": [],
   "source": [
    "# Informações importantes\n",
    "# Usar seletores de metadados como degree, indegree ou outdegree\n"
   ]
  },
  {
   "cell_type": "markdown",
   "metadata": {},
   "source": [
    "## Ideias para a visualização\n",
    "\n",
    "- Destacar todos os parents de um node\n",
    "- "
   ]
  },
  {
   "cell_type": "markdown",
   "metadata": {},
   "source": [
    "<img src='Grafo.png' width=\"400\" height=\"400\">"
   ]
  }
 ],
 "metadata": {
  "interpreter": {
   "hash": "9d22e210787f932f44a26469d735647043a268fad5da08dd695a23660e1e54d0"
  },
  "kernelspec": {
   "display_name": "Python 3 (ipykernel)",
   "language": "python",
   "name": "python3"
  },
  "language_info": {
   "codemirror_mode": {
    "name": "ipython",
    "version": 3
   },
   "file_extension": ".py",
   "mimetype": "text/x-python",
   "name": "python",
   "nbconvert_exporter": "python",
   "pygments_lexer": "ipython3",
   "version": "3.9.7"
  }
 },
 "nbformat": 4,
 "nbformat_minor": 2
}
